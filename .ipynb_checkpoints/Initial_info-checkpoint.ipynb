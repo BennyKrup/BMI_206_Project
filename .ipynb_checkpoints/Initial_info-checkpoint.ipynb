{
 "cells": [
  {
   "cell_type": "code",
   "execution_count": 1,
   "metadata": {},
   "outputs": [],
   "source": [
    "# import pandas as pd\n",
    "# import numpy as np\n",
    "# import networkx as nx\n",
    "# import matplotlib.pyplot as plt\n",
    "\n",
    "# # read the Excel file into a pandas dataframe\n",
    "# df = pd.read_excel('12859_2019_2897_MOESM2_ESM.xlsx', sheet_name=None)\n",
    "\n",
    "# # loop through each sheet in the dataframe\n",
    "# for sheet_name, sheet_data in df.items():\n",
    "#     # convert the sheet to a NumPy array\n",
    "#     adj_matrix = sheet_data.to_numpy()\n",
    "    \n",
    "#     # create a graph from the adjacency matrix\n",
    "#     G = nx.from_numpy_array(adj_matrix)\n",
    "    \n",
    "#     # draw the graph and save it as an image file\n",
    "#     nx.draw(G, with_labels=True)\n",
    "#     plt.savefig(f\"{sheet_name}.png\")\n",
    "    \n",
    "#     # print the nodes and edges of the graph\n",
    "#     print(f\"Graph from sheet '{sheet_name}' saved as '{sheet_name}.png'\")"
   ]
  },
  {
   "cell_type": "code",
   "execution_count": 3,
   "metadata": {},
   "outputs": [],
   "source": [
    "# df['E.coli (iJ01366)'].shape()"
   ]
  },
  {
   "cell_type": "code",
   "execution_count": 4,
   "metadata": {},
   "outputs": [],
   "source": [
    "import pandas as pd\n",
    "import numpy as np\n",
    "import networkx as nx\n",
    "import matplotlib.pyplot as plt"
   ]
  },
  {
   "cell_type": "code",
   "execution_count": 7,
   "metadata": {},
   "outputs": [],
   "source": [
    "# %%\n",
    "File_name='12859_2019_2897_MOESM2_ESM.xlsx'\n",
    "\n",
    "sheet_names = pd.ExcelFile(File_name).sheet_names\n",
    "sheets = {}\n",
    "for sheet in sheet_names:\n",
    "    sheets[sheet] = pd.read_excel(File_name,sheet_name=sheet,index_col=0)"
   ]
  },
  {
   "cell_type": "code",
   "execution_count": 11,
   "metadata": {},
   "outputs": [
    {
     "data": {
      "text/plain": [
       "['E.coli (iJ01366)',\n",
       " 'B. subtilis (iYO844)',\n",
       " 'G. metallireducens (iAF987)',\n",
       " 'K. pneumoniae (iYL1228)',\n",
       " 'S. cerevisiae (iMM904)']"
      ]
     },
     "execution_count": 11,
     "metadata": {},
     "output_type": "execute_result"
    }
   ],
   "source": [
    "sheet_names"
   ]
  },
  {
   "cell_type": "code",
   "execution_count": 31,
   "metadata": {},
   "outputs": [
    {
     "name": "stdout",
     "output_type": "stream",
     "text": [
      "E.coli (iJ01366)\n"
     ]
    },
    {
     "name": "stderr",
     "output_type": "stream",
     "text": [
      "C:\\Users\\chati\\AppData\\Local\\Temp/ipykernel_38684/3086909458.py:13: DeprecationWarning: `np.bool` is a deprecated alias for the builtin `bool`. To silence this warning, use `bool` by itself. Doing this will not modify any behavior and is safe. If you specifically wanted the numpy scalar type, use `np.bool_` here.\n",
      "Deprecated in NumPy 1.20; for more details and guidance: https://numpy.org/devdocs/release/1.20.0-notes.html#deprecations\n",
      "  in_df=(df.where(np.triu(np.ones(df.shape)).astype(np.bool))).fillna(0)\n",
      "C:\\Users\\chati\\AppData\\Local\\Temp/ipykernel_38684/3086909458.py:14: DeprecationWarning: `np.bool` is a deprecated alias for the builtin `bool`. To silence this warning, use `bool` by itself. Doing this will not modify any behavior and is safe. If you specifically wanted the numpy scalar type, use `np.bool_` here.\n",
      "Deprecated in NumPy 1.20; for more details and guidance: https://numpy.org/devdocs/release/1.20.0-notes.html#deprecations\n",
      "  out_df=(df.T.where(np.triu(np.ones(df.shape)).astype(np.bool))).fillna(0)\n"
     ]
    },
    {
     "name": "stdout",
     "output_type": "stream",
     "text": [
      "Nodes: 1251\n",
      "Edges: 9099\n",
      "In Degree:  3866.0\n",
      "Out Degree:  5233.0\n",
      "B. subtilis (iYO844)\n",
      "Nodes: 748\n",
      "Edges: 6489\n",
      "In Degree:  2964.0\n",
      "Out Degree:  3525.0\n",
      "G. metallireducens (iAF987)\n",
      "Nodes: 900\n",
      "Edges: 8049\n",
      "In Degree:  4567.0\n",
      "Out Degree:  3482.0\n",
      "K. pneumoniae (iYL1228)\n",
      "Nodes: 1137\n",
      "Edges: 8084\n",
      "In Degree:  3740.0\n",
      "Out Degree:  4344.0\n",
      "S. cerevisiae (iMM904)\n",
      "Nodes: 881\n",
      "Edges: 10460\n",
      "In Degree:  5812.0\n",
      "Out Degree:  4648.0\n"
     ]
    }
   ],
   "source": [
    "for sn in sheet_names:\n",
    "    print(sn)\n",
    "    df=sheets[sn].copy()\n",
    "    G=nx.DiGraph()\n",
    "\n",
    "    nodes = list(df.columns)\n",
    "    G.add_nodes_from(nodes)\n",
    "\n",
    "    for i, row in df.iterrows():\n",
    "        for j, value in row.iteritems():\n",
    "            if value == 1:\n",
    "                G.add_edge(i, j)\n",
    "    in_df=(df.where(np.triu(np.ones(df.shape)).astype(np.bool))).fillna(0)\n",
    "    out_df=(df.T.where(np.triu(np.ones(df.shape)).astype(np.bool))).fillna(0)\n",
    "    \n",
    "    # node and edge features\n",
    "    print(\"Nodes:\", len(G.nodes))\n",
    "    print(\"Edges:\", len(G.edges))\n",
    "    print(\"In Degree: \", in_df.sum().sum())\n",
    "    print(\"Out Degree: \", out_df.sum().sum())"
   ]
  }
 ],
 "metadata": {
  "kernelspec": {
   "display_name": "Python 3 (ipykernel)",
   "language": "python",
   "name": "python3"
  },
  "language_info": {
   "codemirror_mode": {
    "name": "ipython",
    "version": 3
   },
   "file_extension": ".py",
   "mimetype": "text/x-python",
   "name": "python",
   "nbconvert_exporter": "python",
   "pygments_lexer": "ipython3",
   "version": "3.9.7"
  }
 },
 "nbformat": 4,
 "nbformat_minor": 2
}
