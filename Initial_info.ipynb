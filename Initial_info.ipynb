{
 "cells": [
  {
   "cell_type": "code",
   "execution_count": 24,
   "metadata": {},
   "outputs": [
    {
     "ename": "NetworkXError",
     "evalue": "Adjacency matrix not square: nx,ny=(1251, 1252)",
     "output_type": "error",
     "traceback": [
      "\u001b[0;31m---------------------------------------------------------------------------\u001b[0m",
      "\u001b[0;31mNetworkXError\u001b[0m                             Traceback (most recent call last)",
      "\u001b[1;32m/Users/beniaminkrupkin/Desktop/bmi206/Project_Group/BMI_206_Project/Initial_info.ipynb Cell 1\u001b[0m line \u001b[0;36m1\n\u001b[1;32m     <a href='vscode-notebook-cell:/Users/beniaminkrupkin/Desktop/bmi206/Project_Group/BMI_206_Project/Initial_info.ipynb#W6sZmlsZQ%3D%3D?line=11'>12</a>\u001b[0m adj_matrix \u001b[39m=\u001b[39m sheet_data\u001b[39m.\u001b[39mto_numpy()\n\u001b[1;32m     <a href='vscode-notebook-cell:/Users/beniaminkrupkin/Desktop/bmi206/Project_Group/BMI_206_Project/Initial_info.ipynb#W6sZmlsZQ%3D%3D?line=13'>14</a>\u001b[0m \u001b[39m# create a graph from the adjacency matrix\u001b[39;00m\n\u001b[0;32m---> <a href='vscode-notebook-cell:/Users/beniaminkrupkin/Desktop/bmi206/Project_Group/BMI_206_Project/Initial_info.ipynb#W6sZmlsZQ%3D%3D?line=14'>15</a>\u001b[0m G \u001b[39m=\u001b[39m nx\u001b[39m.\u001b[39;49mfrom_numpy_array(adj_matrix)\n\u001b[1;32m     <a href='vscode-notebook-cell:/Users/beniaminkrupkin/Desktop/bmi206/Project_Group/BMI_206_Project/Initial_info.ipynb#W6sZmlsZQ%3D%3D?line=16'>17</a>\u001b[0m \u001b[39m# draw the graph and save it as an image file\u001b[39;00m\n\u001b[1;32m     <a href='vscode-notebook-cell:/Users/beniaminkrupkin/Desktop/bmi206/Project_Group/BMI_206_Project/Initial_info.ipynb#W6sZmlsZQ%3D%3D?line=17'>18</a>\u001b[0m nx\u001b[39m.\u001b[39mdraw(G, with_labels\u001b[39m=\u001b[39m\u001b[39mTrue\u001b[39;00m)\n",
      "File \u001b[0;32m~/Library/Python/3.9/lib/python/site-packages/networkx/utils/backends.py:412\u001b[0m, in \u001b[0;36m_dispatch.__call__\u001b[0;34m(self, backend, *args, **kwargs)\u001b[0m\n\u001b[1;32m    409\u001b[0m \u001b[39mdef\u001b[39;00m \u001b[39m__call__\u001b[39m(\u001b[39mself\u001b[39m, \u001b[39m/\u001b[39m, \u001b[39m*\u001b[39margs, backend\u001b[39m=\u001b[39m\u001b[39mNone\u001b[39;00m, \u001b[39m*\u001b[39m\u001b[39m*\u001b[39mkwargs):\n\u001b[1;32m    410\u001b[0m     \u001b[39mif\u001b[39;00m \u001b[39mnot\u001b[39;00m backends:\n\u001b[1;32m    411\u001b[0m         \u001b[39m# Fast path if no backends are installed\u001b[39;00m\n\u001b[0;32m--> 412\u001b[0m         \u001b[39mreturn\u001b[39;00m \u001b[39mself\u001b[39;49m\u001b[39m.\u001b[39;49morig_func(\u001b[39m*\u001b[39;49margs, \u001b[39m*\u001b[39;49m\u001b[39m*\u001b[39;49mkwargs)\n\u001b[1;32m    414\u001b[0m     \u001b[39m# Use `backend_name` in this function instead of `backend`\u001b[39;00m\n\u001b[1;32m    415\u001b[0m     backend_name \u001b[39m=\u001b[39m backend\n",
      "File \u001b[0;32m~/Library/Python/3.9/lib/python/site-packages/networkx/convert_matrix.py:1118\u001b[0m, in \u001b[0;36mfrom_numpy_array\u001b[0;34m(A, parallel_edges, create_using, edge_attr)\u001b[0m\n\u001b[1;32m   1116\u001b[0m n, m \u001b[39m=\u001b[39m A\u001b[39m.\u001b[39mshape\n\u001b[1;32m   1117\u001b[0m \u001b[39mif\u001b[39;00m n \u001b[39m!=\u001b[39m m:\n\u001b[0;32m-> 1118\u001b[0m     \u001b[39mraise\u001b[39;00m nx\u001b[39m.\u001b[39mNetworkXError(\u001b[39mf\u001b[39m\u001b[39m\"\u001b[39m\u001b[39mAdjacency matrix not square: nx,ny=\u001b[39m\u001b[39m{\u001b[39;00mA\u001b[39m.\u001b[39mshape\u001b[39m}\u001b[39;00m\u001b[39m\"\u001b[39m)\n\u001b[1;32m   1119\u001b[0m dt \u001b[39m=\u001b[39m A\u001b[39m.\u001b[39mdtype\n\u001b[1;32m   1120\u001b[0m \u001b[39mtry\u001b[39;00m:\n",
      "\u001b[0;31mNetworkXError\u001b[0m: Adjacency matrix not square: nx,ny=(1251, 1252)"
     ]
    }
   ],
   "source": [
    "import pandas as pd\n",
    "import numpy as np\n",
    "import networkx as nx\n",
    "import matplotlib.pyplot as plt\n",
    "\n",
    "# read the Excel file into a pandas dataframe\n",
    "df = pd.read_excel('12859_2019_2897_MOESM2_ESM.xlsx', sheet_name=None)\n",
    "\n",
    "# loop through each sheet in the dataframe\n",
    "for sheet_name, sheet_data in df.items():\n",
    "    # convert the sheet to a NumPy array\n",
    "    adj_matrix = sheet_data.to_numpy()\n",
    "    \n",
    "    # create a graph from the adjacency matrix\n",
    "    G = nx.from_numpy_array(adj_matrix)\n",
    "    \n",
    "    # draw the graph and save it as an image file\n",
    "    nx.draw(G, with_labels=True)\n",
    "    plt.savefig(f\"{sheet_name}.png\")\n",
    "    \n",
    "    # print the nodes and edges of the graph\n",
    "    print(f\"Graph from sheet '{sheet_name}' saved as '{sheet_name}.png'\")"
   ]
  },
  {
   "cell_type": "code",
   "execution_count": 31,
   "metadata": {},
   "outputs": [
    {
     "ename": "NetworkXError",
     "evalue": "Adjacency matrix not square: nx,ny=(880, 881)",
     "output_type": "error",
     "traceback": [
      "\u001b[0;31m---------------------------------------------------------------------------\u001b[0m",
      "\u001b[0;31mNetworkXError\u001b[0m                             Traceback (most recent call last)",
      "\u001b[1;32m/Users/beniaminkrupkin/Desktop/bmi206/Project_Group/BMI_206_Project/Initial_info.ipynb Cell 2\u001b[0m line \u001b[0;36m1\n\u001b[1;32m      <a href='vscode-notebook-cell:/Users/beniaminkrupkin/Desktop/bmi206/Project_Group/BMI_206_Project/Initial_info.ipynb#X10sZmlsZQ%3D%3D?line=8'>9</a>\u001b[0m \u001b[39m# loop through each sheet in the dataframe\u001b[39;00m\n\u001b[1;32m     <a href='vscode-notebook-cell:/Users/beniaminkrupkin/Desktop/bmi206/Project_Group/BMI_206_Project/Initial_info.ipynb#X10sZmlsZQ%3D%3D?line=9'>10</a>\u001b[0m \u001b[39mfor\u001b[39;00m sheet_name, sheet_data \u001b[39min\u001b[39;00m df\u001b[39m.\u001b[39mitems():\n\u001b[1;32m     <a href='vscode-notebook-cell:/Users/beniaminkrupkin/Desktop/bmi206/Project_Group/BMI_206_Project/Initial_info.ipynb#X10sZmlsZQ%3D%3D?line=10'>11</a>\u001b[0m \n\u001b[1;32m     <a href='vscode-notebook-cell:/Users/beniaminkrupkin/Desktop/bmi206/Project_Group/BMI_206_Project/Initial_info.ipynb#X10sZmlsZQ%3D%3D?line=11'>12</a>\u001b[0m     \u001b[39m# create a graph from the adjacency matrix\u001b[39;00m\n\u001b[0;32m---> <a href='vscode-notebook-cell:/Users/beniaminkrupkin/Desktop/bmi206/Project_Group/BMI_206_Project/Initial_info.ipynb#X10sZmlsZQ%3D%3D?line=12'>13</a>\u001b[0m     G \u001b[39m=\u001b[39m nx\u001b[39m.\u001b[39;49mfrom_numpy_array(adj_matrix)\n\u001b[1;32m     <a href='vscode-notebook-cell:/Users/beniaminkrupkin/Desktop/bmi206/Project_Group/BMI_206_Project/Initial_info.ipynb#X10sZmlsZQ%3D%3D?line=14'>15</a>\u001b[0m     \u001b[39m# draw the graph and save it as an image file\u001b[39;00m\n\u001b[1;32m     <a href='vscode-notebook-cell:/Users/beniaminkrupkin/Desktop/bmi206/Project_Group/BMI_206_Project/Initial_info.ipynb#X10sZmlsZQ%3D%3D?line=15'>16</a>\u001b[0m     nx\u001b[39m.\u001b[39mdraw(G, with_labels\u001b[39m=\u001b[39m\u001b[39mTrue\u001b[39;00m)\n",
      "File \u001b[0;32m~/Library/Python/3.9/lib/python/site-packages/networkx/utils/backends.py:412\u001b[0m, in \u001b[0;36m_dispatch.__call__\u001b[0;34m(self, backend, *args, **kwargs)\u001b[0m\n\u001b[1;32m    409\u001b[0m \u001b[39mdef\u001b[39;00m \u001b[39m__call__\u001b[39m(\u001b[39mself\u001b[39m, \u001b[39m/\u001b[39m, \u001b[39m*\u001b[39margs, backend\u001b[39m=\u001b[39m\u001b[39mNone\u001b[39;00m, \u001b[39m*\u001b[39m\u001b[39m*\u001b[39mkwargs):\n\u001b[1;32m    410\u001b[0m     \u001b[39mif\u001b[39;00m \u001b[39mnot\u001b[39;00m backends:\n\u001b[1;32m    411\u001b[0m         \u001b[39m# Fast path if no backends are installed\u001b[39;00m\n\u001b[0;32m--> 412\u001b[0m         \u001b[39mreturn\u001b[39;00m \u001b[39mself\u001b[39;49m\u001b[39m.\u001b[39;49morig_func(\u001b[39m*\u001b[39;49margs, \u001b[39m*\u001b[39;49m\u001b[39m*\u001b[39;49mkwargs)\n\u001b[1;32m    414\u001b[0m     \u001b[39m# Use `backend_name` in this function instead of `backend`\u001b[39;00m\n\u001b[1;32m    415\u001b[0m     backend_name \u001b[39m=\u001b[39m backend\n",
      "File \u001b[0;32m~/Library/Python/3.9/lib/python/site-packages/networkx/convert_matrix.py:1118\u001b[0m, in \u001b[0;36mfrom_numpy_array\u001b[0;34m(A, parallel_edges, create_using, edge_attr)\u001b[0m\n\u001b[1;32m   1116\u001b[0m n, m \u001b[39m=\u001b[39m A\u001b[39m.\u001b[39mshape\n\u001b[1;32m   1117\u001b[0m \u001b[39mif\u001b[39;00m n \u001b[39m!=\u001b[39m m:\n\u001b[0;32m-> 1118\u001b[0m     \u001b[39mraise\u001b[39;00m nx\u001b[39m.\u001b[39mNetworkXError(\u001b[39mf\u001b[39m\u001b[39m\"\u001b[39m\u001b[39mAdjacency matrix not square: nx,ny=\u001b[39m\u001b[39m{\u001b[39;00mA\u001b[39m.\u001b[39mshape\u001b[39m}\u001b[39;00m\u001b[39m\"\u001b[39m)\n\u001b[1;32m   1119\u001b[0m dt \u001b[39m=\u001b[39m A\u001b[39m.\u001b[39mdtype\n\u001b[1;32m   1120\u001b[0m \u001b[39mtry\u001b[39;00m:\n",
      "\u001b[0;31mNetworkXError\u001b[0m: Adjacency matrix not square: nx,ny=(880, 881)"
     ]
    }
   ],
   "source": [
    "import pandas as pd\n",
    "import numpy as np\n",
    "import networkx as nx\n",
    "import matplotlib.pyplot as plt\n",
    "\n",
    "# read the Excel file into a pandas dataframe\n",
    "df = pd.read_excel('12859_2019_2897_MOESM2_ESM.xlsx', sheet_name=True)\n",
    "\n",
    "# loop through each sheet in the dataframe\n",
    "for sheet_name, sheet_data in df.items():\n",
    "\n",
    "    # create a graph from the adjacency matrix\n",
    "    G = nx.from_numpy_array(adj_matrix)\n",
    "    \n",
    "    # draw the graph and save it as an image file\n",
    "    nx.draw(G, with_labels=True)\n",
    "    plt.savefig(f\"{sheet_name}.png\")\n",
    "    \n",
    "    # print the nodes and edges of the graph\n",
    "    print(f\"Graph from sheet '{sheet_name}' saved as '{sheet_name}.png'\")"
   ]
  },
  {
   "cell_type": "code",
   "execution_count": 29,
   "metadata": {},
   "outputs": [
    {
     "ename": "TypeError",
     "evalue": "'tuple' object is not callable",
     "output_type": "error",
     "traceback": [
      "\u001b[0;31m---------------------------------------------------------------------------\u001b[0m",
      "\u001b[0;31mTypeError\u001b[0m                                 Traceback (most recent call last)",
      "\u001b[1;32m/Users/beniaminkrupkin/Desktop/bmi206/Project_Group/BMI_206_Project/Initial_info.ipynb Cell 3\u001b[0m line \u001b[0;36m1\n\u001b[0;32m----> <a href='vscode-notebook-cell:/Users/beniaminkrupkin/Desktop/bmi206/Project_Group/BMI_206_Project/Initial_info.ipynb#X11sZmlsZQ%3D%3D?line=0'>1</a>\u001b[0m df[\u001b[39m'\u001b[39;49m\u001b[39mE.coli (iJ01366)\u001b[39;49m\u001b[39m'\u001b[39;49m]\u001b[39m.\u001b[39;49mshape()\n",
      "\u001b[0;31mTypeError\u001b[0m: 'tuple' object is not callable"
     ]
    }
   ],
   "source": [
    "df['E.coli (iJ01366)'].shape()\n"
   ]
  },
  {
   "cell_type": "code",
   "execution_count": null,
   "metadata": {},
   "outputs": [],
   "source": []
  }
 ],
 "metadata": {
  "kernelspec": {
   "display_name": "Python 3",
   "language": "python",
   "name": "python3"
  },
  "language_info": {
   "codemirror_mode": {
    "name": "ipython",
    "version": 3
   },
   "file_extension": ".py",
   "mimetype": "text/x-python",
   "name": "python",
   "nbconvert_exporter": "python",
   "pygments_lexer": "ipython3",
   "version": "3.9.6"
  }
 },
 "nbformat": 4,
 "nbformat_minor": 2
}
